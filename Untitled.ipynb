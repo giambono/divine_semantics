{
 "cells": [
  {
   "cell_type": "code",
   "execution_count": 4,
   "id": "ac0fccf2-0cfe-4b2e-8431-966a7f2c665a",
   "metadata": {},
   "outputs": [],
   "source": [
    "import numpy as np\n",
    "import pandas as pd\n",
    "\n",
    "from src.db_helper import retrieve_text"
   ]
  },
  {
   "cell_type": "code",
   "execution_count": 9,
   "id": "793ddcfa-7c7a-4910-aafc-47fb3da1ce8e",
   "metadata": {},
   "outputs": [],
   "source": [
    "# d: list of dicts with d[0].keys() = dict_keys(['cantica_id', 'cantica_name', 'canto', 'author_name', 'author_id', 'text', 'd_start_verse', 'd_end_verse'])\n",
    "params = {'cantica': 1, 'canto': 1, 'start_verse': 1, 'end_verse': 200}\n",
    "_, d = retrieve_text(**{**params, **{\"author_names\": [\"dante\"], \"type_name\": \"TEXT\"}})\n",
    "\n"
   ]
  },
  {
   "cell_type": "code",
   "execution_count": 15,
   "id": "ce55c758-300e-4f22-95be-0b137a8ecace",
   "metadata": {},
   "outputs": [
    {
     "data": {
      "text/plain": [
       "{'cantica_id': 1,\n",
       " 'cantica_name': 'Inferno',\n",
       " 'canto': 1,\n",
       " 'author_name': 'dante',\n",
       " 'author_id': 1,\n",
       " 'text': 'Nel mezzo del cammin di nostra vita mi ritrovai per una selva oscura, ché la diritta via era smarrita.',\n",
       " 'd_start_verse': 1,\n",
       " 'd_end_verse': 3}"
      ]
     },
     "execution_count": 15,
     "metadata": {},
     "output_type": "execute_result"
    }
   ],
   "source": [
    "d[0]"
   ]
  },
  {
   "cell_type": "code",
   "execution_count": null,
   "id": "a789f1ae-2bf0-42c5-9088-2f2b4867dfee",
   "metadata": {},
   "outputs": [],
   "source": []
  }
 ],
 "metadata": {
  "kernelspec": {
   "display_name": "Python 3 (ipykernel)",
   "language": "python",
   "name": "python3"
  },
  "language_info": {
   "codemirror_mode": {
    "name": "ipython",
    "version": 3
   },
   "file_extension": ".py",
   "mimetype": "text/x-python",
   "name": "python",
   "nbconvert_exporter": "python",
   "pygments_lexer": "ipython3",
   "version": "3.9.21"
  }
 },
 "nbformat": 4,
 "nbformat_minor": 5
}

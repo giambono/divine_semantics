{
 "cells": [
  {
   "cell_type": "markdown",
   "metadata": {
    "colab_type": "text",
    "id": "view-in-github"
   },
   "source": [
    "<a href=\"https://colab.research.google.com/github/giambono/divine_semantics/blob/main/run_compute_qdrant_embedding.ipynb\" target=\"_parent\"><img src=\"https://colab.research.google.com/assets/colab-badge.svg\" alt=\"Open In Colab\"/></a>"
   ]
  },
  {
   "cell_type": "code",
   "execution_count": 1,
   "metadata": {
    "id": "g0Yvwc2OGkVm"
   },
   "outputs": [
    {
     "name": "stdout",
     "output_type": "stream",
     "text": [
      "Working directory set to: /home/rfflpllcn/IdeaProjects/divine_semantics/notebooks\n",
      "Not running on Google Colab.\n"
     ]
    }
   ],
   "source": [
    "import os\n",
    "\n",
    "# Check if the notebook is running on Google Colab\n",
    "def is_colab():\n",
    "    try:\n",
    "        import google.colab\n",
    "        return True\n",
    "    except ImportError:\n",
    "        return False\n",
    "\n",
    "# Clone the repository if running on Colab\n",
    "if is_colab():\n",
    "    print(\"Running on Google Colab. Cloning repository...\")\n",
    "    !git clone https://github.com/giambono/divine_semantics.git\n",
    "    os.chdir(\"/content/divine_semantics\")\n",
    "    !pip install -r requirements.txt\n",
    "else:\n",
    "    import sys\n",
    "    sys.path.append(\"..\")\n",
    "    print(f\"Working directory set to: {os.getcwd()}\")\n",
    "    print(\"Not running on Google Colab.\")"
   ]
  },
  {
   "cell_type": "code",
   "execution_count": 2,
   "metadata": {
    "id": "7KrGxuUmIFMo"
   },
   "outputs": [],
   "source": [
    "import os\n",
    "from dotenv import load_dotenv\n",
    "from qdrant_client import QdrantClient\n",
    "\n",
    "load_dotenv()\n",
    "\n",
    "qdrant_url = os.getenv(\"QDRANT_URL\")\n",
    "qdrant_api_key = os.getenv(\"QDRANT_API_KEY\")\n",
    "\n",
    "qdrant_client = QdrantClient(\n",
    "    url=qdrant_url,\n",
    "    api_key=qdrant_api_key,\n",
    ")"
   ]
  },
  {
   "cell_type": "code",
   "execution_count": 3,
   "metadata": {
    "id": "HhvsvuXrJflv"
   },
   "outputs": [
    {
     "name": "stderr",
     "output_type": "stream",
     "text": [
      "/home/rfflpllcn/IdeaProjects/divine_semantics/venv/lib/python3.9/site-packages/tqdm/auto.py:21: TqdmWarning: IProgress not found. Please update jupyter and ipywidgets. See https://ipywidgets.readthedocs.io/en/stable/user_install.html\n",
      "  from .autonotebook import tqdm as notebook_tqdm\n"
     ]
    }
   ],
   "source": [
    "import numpy as np\n",
    "import pandas as pd\n",
    "import src.compute_embeddings as compute_embeddings\n",
    "from src.db_helper import get_db_connection\n",
    "from src.utils import load_model\n"
   ]
  },
  {
   "cell_type": "code",
   "execution_count": 4,
   "metadata": {
    "id": "8OnqS22rHwH-"
   },
   "outputs": [],
   "source": [
    "\n",
    "conn = get_db_connection()  # Ensure get_db_connection() is defined/imported\n",
    "df = pd.read_sql_query(\"SELECT * FROM divine_comedy\", conn)"
   ]
  },
  {
   "cell_type": "code",
   "execution_count": 5,
   "metadata": {
    "id": "8_jwR2XIKCjQ"
   },
   "outputs": [
    {
     "name": "stdout",
     "output_type": "stream",
     "text": [
      "Computing embeddings with fake_text...\n",
      "Collection dante_fake_text already exists. Skipping fake_text.\n"
     ]
    }
   ],
   "source": [
    "model_key = \"fake_text\"\n",
    "models = {model_key: load_model(model_key)}\n",
    "\n",
    "compute_embeddings.compute_embeddings_and_upsert(df, models, qdrant_client, collection_name_prefix=\"dante_\")"
   ]
  },
  {
   "cell_type": "code",
   "execution_count": 6,
   "metadata": {
    "colab": {
     "base_uri": "https://localhost:8080/"
    },
    "id": "wFGFPVOHKLSr",
    "outputId": "48be414d-e7f3-4a78-a4c5-74e8c08ce21a"
   },
   "outputs": [
    {
     "data": {
      "text/plain": [
       "CollectionsResponse(collections=[CollectionDescription(name='dante_fake_text')])"
      ]
     },
     "execution_count": 6,
     "metadata": {},
     "output_type": "execute_result"
    }
   ],
   "source": [
    "qdrant_client.get_collections()\n"
   ]
  },
  {
   "cell_type": "code",
   "execution_count": null,
   "metadata": {
    "id": "2Alv1A2ELFdg"
   },
   "outputs": [],
   "source": []
  }
 ],
 "metadata": {
  "colab": {
   "authorship_tag": "ABX9TyMVS0k7qcC1yUnI73cEybYW",
   "include_colab_link": true,
   "provenance": []
  },
  "kernelspec": {
   "display_name": "Python 3 (ipykernel)",
   "language": "python",
   "name": "python3"
  },
  "language_info": {
   "codemirror_mode": {
    "name": "ipython",
    "version": 3
   },
   "file_extension": ".py",
   "mimetype": "text/x-python",
   "name": "python",
   "nbconvert_exporter": "python",
   "pygments_lexer": "ipython3",
   "version": "3.9.21"
  }
 },
 "nbformat": 4,
 "nbformat_minor": 4
}

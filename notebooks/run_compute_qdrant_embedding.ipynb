{
 "cells": [
  {
   "cell_type": "markdown",
   "metadata": {
    "colab_type": "text",
    "id": "view-in-github"
   },
   "source": [
    "<a href=\"https://colab.research.google.com/github/giambono/divine_semantics/blob/main/run_compute_qdrant_embedding.ipynb\" target=\"_parent\"><img src=\"https://colab.research.google.com/assets/colab-badge.svg\" alt=\"Open In Colab\"/></a>"
   ]
  },
  {
   "cell_type": "code",
   "execution_count": 1,
   "metadata": {
    "id": "g0Yvwc2OGkVm"
   },
   "outputs": [
    {
     "name": "stdout",
     "output_type": "stream",
     "text": [
      "Working directory set to: /home/rfflpllcn/IdeaProjects/divine_semantics/notebooks\n",
      "Not running on Google Colab.\n"
     ]
    }
   ],
   "source": [
    "import os\n",
    "\n",
    "# Check if the notebook is running on Google Colab\n",
    "def is_colab():\n",
    "    try:\n",
    "        import google.colab\n",
    "        return True\n",
    "    except ImportError:\n",
    "        return False\n",
    "\n",
    "# Clone the repository if running on Colab\n",
    "if is_colab():\n",
    "    print(\"Running on Google Colab. Cloning repository...\")\n",
    "    !git clone https://github.com/giambono/divine_semantics.git\n",
    "    os.chdir(\"/content/divine_semantics\")\n",
    "    !pip install -r requirements.txt\n",
    "else:\n",
    "    import sys\n",
    "    sys.path.append(\"..\")\n",
    "    print(f\"Working directory set to: {os.getcwd()}\")\n",
    "    print(\"Not running on Google Colab.\")"
   ]
  },
  {
   "cell_type": "code",
   "execution_count": 1,
   "metadata": {
    "id": "7KrGxuUmIFMo"
   },
   "outputs": [],
   "source": [
    "import os\n",
    "from dotenv import load_dotenv\n",
    "from qdrant_client import QdrantClient\n",
    "\n",
    "load_dotenv()\n",
    "\n",
    "qdrant_url = os.getenv(\"QDRANT_URL\")\n",
    "qdrant_api_key = os.getenv(\"QDRANT_API_KEY\")\n",
    "\n",
    "qdrant_client = QdrantClient(\n",
    "    url=qdrant_url,\n",
    "    api_key=qdrant_api_key,\n",
    ")"
   ]
  },
  {
   "cell_type": "code",
   "execution_count": 3,
   "metadata": {
    "id": "HhvsvuXrJflv"
   },
   "outputs": [
    {
     "name": "stderr",
     "output_type": "stream",
     "text": [
      "/home/rfflpllcn/IdeaProjects/divine_semantics/venv/lib/python3.9/site-packages/tqdm/auto.py:21: TqdmWarning: IProgress not found. Please update jupyter and ipywidgets. See https://ipywidgets.readthedocs.io/en/stable/user_install.html\n",
      "  from .autonotebook import tqdm as notebook_tqdm\n"
     ]
    }
   ],
   "source": [
    "import numpy as np\n",
    "import pandas as pd\n",
    "import src.compute_embeddings as compute_embeddings\n",
    "from src.db_helper import get_db_connection\n",
    "from src.utils import load_model\n"
   ]
  },
  {
   "cell_type": "code",
   "execution_count": 4,
   "metadata": {
    "id": "8OnqS22rHwH-"
   },
   "outputs": [],
   "source": [
    "\n",
    "conn = get_db_connection()  # Ensure get_db_connection() is defined/imported\n",
    "df = pd.read_sql_query(\"SELECT * FROM divine_comedy\", conn)\n",
    "verse_mappings = pd.read_sql_query(\"SELECT * FROM verse_mappings\", conn)\n",
    "\n",
    "# Merge the cumulative_indices column from verse_mappings into df\n",
    "df = df.merge(\n",
    "    verse_mappings[['cantica_id', 'canto', 'start_verse', 'end_verse', 'cumulative_indices']],\n",
    "    on=['cantica_id', 'canto', 'start_verse', 'end_verse'],\n",
    "    how='left'\n",
    ")\n",
    "\n",
    "# Convert the string to a list\n",
    "df['cumulative_indices'] = df['cumulative_indices'].apply(\n",
    "    lambda x: ast.literal_eval(x) if pd.notnull(x) else []\n",
    ")\n"
   ]
  },
  {
   "cell_type": "code",
   "execution_count": 4,
   "metadata": {},
   "outputs": [
    {
     "data": {
      "text/plain": [
       "CollectionsResponse(collections=[CollectionDescription(name='dante_fake_text')])"
      ]
     },
     "execution_count": 4,
     "metadata": {},
     "output_type": "execute_result"
    }
   ],
   "source": [
    "qdrant_client.get_collections()\n",
    "#qdrant_client.delete_collection(collection_name=\"dante_multilingual_e5\")"
   ]
  },
  {
   "cell_type": "code",
   "execution_count": null,
   "metadata": {
    "id": "8_jwR2XIKCjQ"
   },
   "outputs": [],
   "source": [
    "model_key = \"fake_text\"\n",
    "models = {model_key: load_model(model_key)}\n",
    "\n",
    "compute_embeddings.compute_embeddings_and_upsert(df, models, qdrant_client, collection_name_prefix=\"dante_\")"
   ]
  },
  {
   "cell_type": "code",
   "execution_count": 4,
   "metadata": {
    "id": "2Alv1A2ELFdg"
   },
   "outputs": [],
   "source": [
    "collection = qdrant_client.get_collection(\"dante_multilingual_e5\")"
   ]
  },
  {
   "cell_type": "code",
   "execution_count": 9,
   "metadata": {},
   "outputs": [],
   "source": [
    "all_points = []\n",
    "offset = None  # Qdrant scroll API uses None as the initial offset\n",
    "\n",
    "# Retrieve all points from the collection in batches\n",
    "while True:\n",
    "    scroll_result, next_offset = qdrant_client.scroll(\n",
    "        collection_name=\"dante_multilingual_e5\",\n",
    "        limit=100,\n",
    "        offset=offset,\n",
    "        with_vectors=True,\n",
    "        with_payload=True\n",
    "    )\n",
    "    if not scroll_result:\n",
    "        break\n",
    "\n",
    "    all_points.extend(scroll_result)\n",
    "    offset = next_offset  # Use next_offset for pagination\n",
    "    if next_offset is None:\n",
    "        break"
   ]
  },
  {
   "cell_type": "code",
   "execution_count": 15,
   "metadata": {},
   "outputs": [
    {
     "data": {
      "text/plain": [
       "np.float64(0.9999999889255714)"
      ]
     },
     "execution_count": 15,
     "metadata": {},
     "output_type": "execute_result"
    }
   ],
   "source": [
    "import numpy as np\n",
    "v = np.array(all_points[0].vector)\n",
    "norm = np.linalg.norm(v)\n",
    "norm"
   ]
  },
  {
   "cell_type": "code",
   "execution_count": null,
   "metadata": {},
   "outputs": [],
   "source": []
  }
 ],
 "metadata": {
  "colab": {
   "authorship_tag": "ABX9TyMVS0k7qcC1yUnI73cEybYW",
   "include_colab_link": true,
   "provenance": []
  },
  "kernelspec": {
   "display_name": "Python 3 (ipykernel)",
   "language": "python",
   "name": "python3"
  },
  "language_info": {
   "codemirror_mode": {
    "name": "ipython",
    "version": 3
   },
   "file_extension": ".py",
   "mimetype": "text/x-python",
   "name": "python",
   "nbconvert_exporter": "python",
   "pygments_lexer": "ipython3",
   "version": "3.9.21"
  }
 },
 "nbformat": 4,
 "nbformat_minor": 4
}

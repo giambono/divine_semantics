{
  "nbformat": 4,
  "nbformat_minor": 0,
  "metadata": {
    "colab": {
      "provenance": [],
      "gpuType": "A100"
    },
    "kernelspec": {
      "name": "python3",
      "display_name": "Python 3"
    },
    "language_info": {
      "name": "python"
    },
    "accelerator": "GPU"
  },
  "cells": [
    {
      "cell_type": "code",
      "execution_count": 1,
      "metadata": {
        "colab": {
          "base_uri": "https://localhost:8080/"
        },
        "id": "ZXXS-IGywbn8",
        "outputId": "c18e1444-7c78-4879-8df0-0a3d712b2231"
      },
      "outputs": [
        {
          "output_type": "stream",
          "name": "stdout",
          "text": [
            "4.48.3\n"
          ]
        }
      ],
      "source": [
        "import transformers\n",
        "print(transformers.__version__)"
      ]
    },
    {
      "cell_type": "code",
      "source": [
        "import pandas as pd\n",
        "from transformers import LongT5ForConditionalGeneration, T5Tokenizer\n",
        "\n",
        "model_name = \"google/long-t5-tglobal-base\"\n",
        "\n",
        "tokenizer = T5Tokenizer.from_pretrained(model_name)\n",
        "model = LongT5ForConditionalGeneration.from_pretrained(model_name)\n",
        "\n",
        "\n",
        "\n",
        "def summarize_with_longt5(text, max_length=500):\n",
        "    inputs = tokenizer(text, return_tensors=\"pt\", max_length=4096, truncation=True)\n",
        "    summary_ids = model.generate(inputs.input_ids, max_length=max_length, min_length=30, length_penalty=2.0, num_beams=4)\n",
        "    return tokenizer.decode(summary_ids[0], skip_special_tokens=True, clean_up_tokenization_spaces=True)\n",
        "\n",
        "\n",
        "\n",
        "# Load Sapegno comments\n",
        "# sapegno = pd.read_csv(\"/home/rfflpllcn/IdeaProjects/divine_semantics_db/divine_semantics_db/data/comments/sapegno/inferno/sapegno_inferno_comment.csv\")\n",
        "sapegno = pd.read_csv(\"/content/sapegno_inferno_comment.csv\")\n",
        "sapegno = sapegno.iloc[:3]\n",
        "\n",
        "\n",
        "sapegno[\"summary\"] = sapegno[\"text\"].apply(lambda x: summarize_with_longt5(str(x)) if pd.notna(x) else \"\")\n",
        "\n",
        "# Save summarized version\n",
        "sapegno[[\"cantica\", \"canto\", \"start_verse\", \"end_verse\", \"author\", \"summary\"]].to_csv(\"sapegno_inferno_summarized.csv\", index=False)\n"
      ],
      "metadata": {
        "id": "qFf4WAhQwdiH"
      },
      "execution_count": 9,
      "outputs": []
    },
    {
      "cell_type": "code",
      "source": [],
      "metadata": {
        "id": "0cWnQNcSw6D-"
      },
      "execution_count": null,
      "outputs": []
    }
  ]
}
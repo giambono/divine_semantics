{
  "cells": [
    {
      "cell_type": "markdown",
      "metadata": {
        "id": "view-in-github",
        "colab_type": "text"
      },
      "source": [
        "<a href=\"https://colab.research.google.com/github/giambono/divine_semantics/blob/main/notebooks/run_compute_qdrant_embedding.ipynb\" target=\"_parent\"><img src=\"https://colab.research.google.com/assets/colab-badge.svg\" alt=\"Open In Colab\"/></a>"
      ]
    },
    {
      "cell_type": "code",
      "execution_count": null,
      "metadata": {
        "id": "g0Yvwc2OGkVm"
      },
      "outputs": [],
      "source": [
        "import os\n",
        "\n",
        "# Check if the notebook is running on Google Colab\n",
        "def is_colab():\n",
        "    try:\n",
        "        import google.colab\n",
        "        return True\n",
        "    except ImportError:\n",
        "        return False\n",
        "\n",
        "# Clone the repository if running on Colab\n",
        "if is_colab():\n",
        "    print(\"Running on Google Colab. Cloning repository...\")\n",
        "    !git clone https://github.com/giambono/divine_semantics.git\n",
        "    os.chdir(\"/content/divine_semantics\")\n",
        "    !pip install -r requirements.txt\n",
        "else:\n",
        "    import sys\n",
        "    sys.path.append(\"..\")\n",
        "    print(f\"Working directory set to: {os.getcwd()}\")\n",
        "    print(\"Not running on Google Colab.\")"
      ]
    },
    {
      "cell_type": "code",
      "execution_count": 2,
      "metadata": {
        "id": "7KrGxuUmIFMo"
      },
      "outputs": [],
      "source": [
        "import os\n",
        "from dotenv import load_dotenv\n",
        "from qdrant_client import QdrantClient\n",
        "\n",
        "load_dotenv()\n",
        "\n",
        "qdrant_url = os.getenv(\"QDRANT_URL\")\n",
        "qdrant_api_key = os.getenv(\"QDRANT_API_KEY\")\n",
        "\n",
        "qdrant_client = QdrantClient(\n",
        "    url=qdrant_url,\n",
        "    api_key=qdrant_api_key,\n",
        ")"
      ]
    },
    {
      "cell_type": "code",
      "execution_count": 3,
      "metadata": {
        "id": "HhvsvuXrJflv"
      },
      "outputs": [],
      "source": [
        "import ast\n",
        "import numpy as np\n",
        "import pandas as pd\n",
        "import src.compute_embeddings as compute_embeddings\n",
        "from src.db_helper import get_db_connection\n",
        "from src.utils import load_model\n"
      ]
    },
    {
      "cell_type": "markdown",
      "source": [
        "# **Choose Dataframe to embedd**"
      ],
      "metadata": {
        "id": "JVWPZNWHa3ll"
      }
    },
    {
      "cell_type": "code",
      "execution_count": null,
      "metadata": {
        "id": "8OnqS22rHwH-"
      },
      "outputs": [],
      "source": [
        "\n",
        "# conn = get_db_connection()  # Ensure get_db_connection() is defined/imported\n",
        "# df = pd.read_sql_query(\"SELECT * FROM divine_comedy\", conn)\n",
        "# verse_mappings = pd.read_sql_query(\"SELECT * FROM verse_mappings\", conn)\n",
        "\n",
        "# # Merge the cumulative_indices column from verse_mappings into df\n",
        "# df = df.merge(\n",
        "#     verse_mappings[['cantica_id', 'canto', 'start_verse', 'end_verse', 'cumulative_indices']],\n",
        "#     on=['cantica_id', 'canto', 'start_verse', 'end_verse'],\n",
        "#     how='left'\n",
        "# )\n",
        "\n",
        "# # Convert the string to a list\n",
        "# df['cumulative_indices'] = df['cumulative_indices'].apply(\n",
        "#     lambda x: ast.literal_eval(x) if pd.notnull(x) else []\n",
        "# )\n"
      ]
    },
    {
      "cell_type": "code",
      "source": [
        "df = pd.read_csv(\"data/parafrasi.csv\", sep=\";\")"
      ],
      "metadata": {
        "id": "Y3rwd36FVcs0"
      },
      "execution_count": 13,
      "outputs": []
    },
    {
      "cell_type": "code",
      "source": [
        "df.columns"
      ],
      "metadata": {
        "colab": {
          "base_uri": "https://localhost:8080/"
        },
        "id": "nOFfbLczWDik",
        "outputId": "3f622d7a-71b1-41e6-b807-36848ecf5cca"
      },
      "execution_count": 14,
      "outputs": [
        {
          "output_type": "execute_result",
          "data": {
            "text/plain": [
              "Index(['cantica', 'canto', 'cum_verse_number', 'verse_number', 'verse_start',\n",
              "       'verse_end', 'text', 'author', 'style', 'temperature', 'prompt'],\n",
              "      dtype='object')"
            ]
          },
          "metadata": {},
          "execution_count": 14
        }
      ]
    },
    {
      "cell_type": "code",
      "execution_count": 10,
      "metadata": {
        "colab": {
          "base_uri": "https://localhost:8080/"
        },
        "id": "cqOEaq1X0E5s",
        "outputId": "64bea2ff-fded-47fb-bfc0-a07820aa8d99"
      },
      "outputs": [
        {
          "output_type": "execute_result",
          "data": {
            "text/plain": [
              "CollectionsResponse(collections=[CollectionDescription(name='dante_fake_text'), CollectionDescription(name='dante_multilingual_e5'), CollectionDescription(name='dante_multilingual_e5_optim_weights')])"
            ]
          },
          "metadata": {},
          "execution_count": 10
        }
      ],
      "source": [
        "qdrant_client.get_collections()\n",
        "#qdrant_client.delete_collection(collection_name=\"dante_multilingual_e5\")"
      ]
    },
    {
      "cell_type": "markdown",
      "source": [
        "# **Compute embeddings and upload to qdrant**\n",
        "\n",
        "\n"
      ],
      "metadata": {
        "id": "cKqPj_dvbAYq"
      }
    },
    {
      "cell_type": "code",
      "execution_count": 15,
      "metadata": {
        "id": "8_jwR2XIKCjQ",
        "colab": {
          "base_uri": "https://localhost:8080/"
        },
        "outputId": "d31d44ba-34b7-45dd-831d-0915f53029d8"
      },
      "outputs": [
        {
          "output_type": "stream",
          "name": "stdout",
          "text": [
            "Computing embeddings with multilingual_e5...\n",
            "Upserted batch 1 containing 100 points\n",
            "Upserted batch 2 containing 100 points\n",
            "Upserted batch 3 containing 100 points\n",
            "Upserted batch 4 containing 100 points\n",
            "Upserted batch 5 containing 100 points\n",
            "Upserted batch 6 containing 100 points\n",
            "Upserted batch 7 containing 100 points\n",
            "Upserted batch 8 containing 100 points\n",
            "Upserted batch 9 containing 100 points\n",
            "Upserted batch 10 containing 100 points\n",
            "Upserted batch 11 containing 100 points\n",
            "Upserted batch 12 containing 100 points\n",
            "Upserted batch 13 containing 100 points\n",
            "Upserted batch 14 containing 100 points\n",
            "Upserted batch 15 containing 100 points\n",
            "Upserted batch 16 containing 100 points\n",
            "Upserted batch 17 containing 100 points\n",
            "Upserted batch 18 containing 100 points\n",
            "Upserted batch 19 containing 100 points\n",
            "Upserted batch 20 containing 100 points\n",
            "Upserted batch 21 containing 100 points\n",
            "Upserted batch 22 containing 100 points\n",
            "Upserted batch 23 containing 100 points\n",
            "Upserted batch 24 containing 100 points\n",
            "Upserted batch 25 containing 100 points\n",
            "Upserted batch 26 containing 100 points\n",
            "Upserted batch 27 containing 100 points\n",
            "Upserted batch 28 containing 100 points\n",
            "Upserted batch 29 containing 100 points\n",
            "Upserted batch 30 containing 100 points\n",
            "Upserted batch 31 containing 100 points\n",
            "Upserted batch 32 containing 100 points\n",
            "Upserted batch 33 containing 100 points\n",
            "Upserted batch 34 containing 100 points\n",
            "Upserted batch 35 containing 100 points\n",
            "Upserted batch 36 containing 100 points\n",
            "Upserted batch 37 containing 100 points\n",
            "Upserted batch 38 containing 100 points\n",
            "Upserted batch 39 containing 100 points\n",
            "Upserted batch 40 containing 100 points\n",
            "Upserted batch 41 containing 100 points\n",
            "Upserted batch 42 containing 100 points\n",
            "Upserted batch 43 containing 100 points\n",
            "Upserted batch 44 containing 100 points\n",
            "Upserted batch 45 containing 100 points\n",
            "Upserted batch 46 containing 100 points\n",
            "Upserted batch 47 containing 12 points\n"
          ]
        }
      ],
      "source": [
        "model_key = \"multilingual_e5\"\n",
        "models = {model_key: load_model(model_key)}\n",
        "\n",
        "payload_columns = ['cantica', 'canto', 'cum_verse_number', 'verse_number', 'verse_start',\n",
        "       'verse_end', 'text', 'author', 'style', 'temperature', 'prompt']\n",
        "compute_embeddings.compute_embeddings_and_upsert(df, models, qdrant_client, collection_name_prefix=\"dante_parafrasi_\", payload_columns=payload_columns)"
      ]
    },
    {
      "cell_type": "code",
      "execution_count": null,
      "metadata": {
        "id": "2Alv1A2ELFdg"
      },
      "outputs": [],
      "source": [
        "collection = qdrant_client.get_collection(\"dante_parafrasi_multilingual_e5\")"
      ]
    },
    {
      "cell_type": "code",
      "execution_count": null,
      "metadata": {
        "id": "POaOjnxP0E5v"
      },
      "outputs": [],
      "source": []
    }
  ],
  "metadata": {
    "accelerator": "GPU",
    "colab": {
      "gpuType": "A100",
      "provenance": [],
      "include_colab_link": true
    },
    "kernelspec": {
      "display_name": "Python 3",
      "name": "python3"
    },
    "language_info": {
      "codemirror_mode": {
        "name": "ipython",
        "version": 3
      },
      "file_extension": ".py",
      "mimetype": "text/x-python",
      "name": "python",
      "nbconvert_exporter": "python",
      "pygments_lexer": "ipython3",
      "version": "3.9.21"
    }
  },
  "nbformat": 4,
  "nbformat_minor": 0
}
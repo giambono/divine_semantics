{
 "cells": [
  {
   "cell_type": "markdown",
   "metadata": {
    "colab_type": "text",
    "id": "view-in-github"
   },
   "source": [
    "<a href=\"https://colab.research.google.com/github/giambono/divine_semantics/blob/main/notebooks/run_compute_qdrant_embedding.ipynb\" target=\"_parent\"><img src=\"https://colab.research.google.com/assets/colab-badge.svg\" alt=\"Open In Colab\"/></a>"
   ]
  },
  {
   "cell_type": "code",
   "execution_count": 3,
   "metadata": {
    "colab": {
     "base_uri": "https://localhost:8080/"
    },
    "id": "g0Yvwc2OGkVm",
    "outputId": "71e8015f-6f90-4e8d-f28c-3876d316c268"
   },
   "outputs": [
    {
     "name": "stdout",
     "output_type": "stream",
     "text": [
      "Working directory set to: /home/rfflpllcn/IdeaProjects/divine_semantics/notebooks\n",
      "Not running on Google Colab.\n"
     ]
    }
   ],
   "source": [
    "import os\n",
    "\n",
    "# Check if the notebook is running on Google Colab\n",
    "def is_colab():\n",
    "    try:\n",
    "        import google.colab\n",
    "        return True\n",
    "    except ImportError:\n",
    "        return False\n",
    "\n",
    "# Clone the repository if running on Colab\n",
    "if is_colab():\n",
    "    print(\"Running on Google Colab. Cloning repository...\")\n",
    "    !git clone https://github.com/giambono/divine_semantics.git\n",
    "    os.chdir(\"/content/divine_semantics\")\n",
    "    !pip install -r requirements.txt\n",
    "else:\n",
    "    import sys\n",
    "    sys.path.append(\"..\")\n",
    "    print(f\"Working directory set to: {os.getcwd()}\")\n",
    "    print(\"Not running on Google Colab.\")"
   ]
  },
  {
   "cell_type": "code",
   "execution_count": 4,
   "metadata": {
    "id": "7KrGxuUmIFMo"
   },
   "outputs": [],
   "source": [
    "import os\n",
    "from dotenv import load_dotenv\n",
    "from qdrant_client import QdrantClient\n",
    "\n",
    "load_dotenv()\n",
    "\n",
    "qdrant_url = os.getenv(\"QDRANT_URL\")\n",
    "qdrant_api_key = os.getenv(\"QDRANT_API_KEY\")\n",
    "\n",
    "qdrant_client = QdrantClient(\n",
    "    url=qdrant_url,\n",
    "    api_key=qdrant_api_key,\n",
    ")"
   ]
  },
  {
   "cell_type": "code",
   "execution_count": 6,
   "metadata": {
    "id": "HhvsvuXrJflv"
   },
   "outputs": [],
   "source": [
    "import ast\n",
    "import numpy as np\n",
    "import pandas as pd\n",
    "from src.query import evaluate_query\n",
    "import src.compute_embeddings as compute_embeddings\n",
    "from src.db_helper import get_db_connection\n",
    "from src.utils import load_model\n",
    "\n",
    "import config"
   ]
  },
  {
   "cell_type": "code",
   "execution_count": 7,
   "metadata": {
    "id": "8_jwR2XIKCjQ"
   },
   "outputs": [
    {
     "name": "stdout",
     "output_type": "stream",
     "text": [
      "True count: 100.00%\n"
     ]
    }
   ],
   "source": [
    "collection_name = \"dante_multilingual_e5\"\n",
    "\n",
    "model_key = \"multilingual_e5\"\n",
    "model = load_model(model_key)\n",
    "\n",
    "path = os.path.join(config.ROOT, \"data/paraphrased_verses.parquet\")\n",
    "test_queries = pd.read_parquet(path)\n",
    "\n",
    "N = 1\n",
    "test_queries_sample = test_queries.sample(n=N)[[\"transformed_text\", \"expected_index\"]]\n",
    "\n",
    "# Iterate over the sampled rows and collect the evaluation output\n",
    "out_collect = []\n",
    "for _, row in test_queries_sample.iterrows():\n",
    "    query_text = row[\"transformed_text\"]\n",
    "    expected_index = row[\"expected_index\"]\n",
    "    result = evaluate_query(\n",
    "        qdrant_client,\n",
    "        collection_name,\n",
    "        query_text,\n",
    "        expected_index,\n",
    "        model,\n",
    "        author_ids=[1, 2, 3, 4, 5],\n",
    "        type_ids=1\n",
    "    )\n",
    "    out_collect.append([query_text, result])\n",
    "\n",
    "# Calculate performance based on the count of True results\n",
    "true_count = sum(flag for _, flag in out_collect)\n",
    "performance = true_count / len(out_collect)\n",
    "\n",
    "print(f\"True count: {performance * 100:.2f}%\")"
   ]
  },
  {
   "cell_type": "code",
   "execution_count": 8,
   "metadata": {
    "id": "POaOjnxP0E5v"
   },
   "outputs": [
    {
     "data": {
      "text/html": [
       "<div>\n",
       "<style scoped>\n",
       "    .dataframe tbody tr th:only-of-type {\n",
       "        vertical-align: middle;\n",
       "    }\n",
       "\n",
       "    .dataframe tbody tr th {\n",
       "        vertical-align: top;\n",
       "    }\n",
       "\n",
       "    .dataframe thead th {\n",
       "        text-align: right;\n",
       "    }\n",
       "</style>\n",
       "<table border=\"1\" class=\"dataframe\">\n",
       "  <thead>\n",
       "    <tr style=\"text-align: right;\">\n",
       "      <th></th>\n",
       "      <th>query_text</th>\n",
       "      <th>is_correct</th>\n",
       "    </tr>\n",
       "  </thead>\n",
       "  <tbody>\n",
       "    <tr>\n",
       "      <th>0</th>\n",
       "      <td>Without hope, we live in desire”</td>\n",
       "      <td>True</td>\n",
       "    </tr>\n",
       "  </tbody>\n",
       "</table>\n",
       "</div>"
      ],
      "text/plain": [
       "                         query_text  is_correct\n",
       "0  Without hope, we live in desire”        True"
      ]
     },
     "execution_count": 8,
     "metadata": {},
     "output_type": "execute_result"
    }
   ],
   "source": [
    "out_collect_df = pd.DataFrame(out_collect, columns=[\"query_text\", \"is_correct\"])\n",
    "out_collect_df"
   ]
  },
  {
   "cell_type": "code",
   "execution_count": 9,
   "metadata": {},
   "outputs": [
    {
     "name": "stderr",
     "output_type": "stream",
     "text": [
      "huggingface/tokenizers: The current process just got forked, after parallelism has already been used. Disabling parallelism to avoid deadlocks...\n",
      "To disable this warning, you can either:\n",
      "\t- Avoid using `tokenizers` before the fork if possible\n",
      "\t- Explicitly set the environment variable TOKENIZERS_PARALLELISM=(true | false)\n"
     ]
    }
   ],
   "source": [
    "out_collect_df.to_clipboard()"
   ]
  },
  {
   "cell_type": "code",
   "execution_count": null,
   "metadata": {},
   "outputs": [],
   "source": []
  }
 ],
 "metadata": {
  "accelerator": "GPU",
  "colab": {
   "gpuType": "A100",
   "include_colab_link": true,
   "provenance": []
  },
  "kernelspec": {
   "display_name": "Python 3 (ipykernel)",
   "language": "python",
   "name": "python3"
  },
  "language_info": {
   "codemirror_mode": {
    "name": "ipython",
    "version": 3
   },
   "file_extension": ".py",
   "mimetype": "text/x-python",
   "name": "python",
   "nbconvert_exporter": "python",
   "pygments_lexer": "ipython3",
   "version": "3.9.21"
  }
 },
 "nbformat": 4,
 "nbformat_minor": 4
}

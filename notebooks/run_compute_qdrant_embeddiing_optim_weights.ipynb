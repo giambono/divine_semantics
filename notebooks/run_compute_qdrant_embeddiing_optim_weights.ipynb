{
 "cells": [
  {
   "cell_type": "markdown",
   "metadata": {
    "id": "view-in-github",
    "colab_type": "text"
   },
   "source": [
    "<a href=\"https://colab.research.google.com/github/giambono/divine_semantics/blob/main/notebooks/run_performance_evaluation.ipynb\" target=\"_parent\"><img src=\"https://colab.research.google.com/assets/colab-badge.svg\" alt=\"Open In Colab\"/></a>"
   ]
  },
  {
   "cell_type": "code",
   "execution_count": null,
   "metadata": {
    "id": "g0Yvwc2OGkVm"
   },
   "outputs": [],
   "source": [
    "import os\n",
    "\n",
    "# Check if the notebook is running on Google Colab\n",
    "def is_colab():\n",
    "    try:\n",
    "        import google.colab\n",
    "        return True\n",
    "    except ImportError:\n",
    "        return False\n",
    "\n",
    "# Clone the repository if running on Colab\n",
    "if is_colab():\n",
    "    print(\"Running on Google Colab. Cloning repository...\")\n",
    "    !git clone https://github.com/giambono/divine_semantics.git\n",
    "    os.chdir(\"/content/divine_semantics\")\n",
    "    !pip install -r requirements.txt\n",
    "else:\n",
    "    import sys\n",
    "    sys.path.append(\"..\")\n",
    "    print(f\"Working directory set to: {os.getcwd()}\")\n",
    "    print(\"Not running on Google Colab.\")"
   ]
  },
  {
   "cell_type": "code",
   "execution_count": 5,
   "metadata": {
    "id": "7KrGxuUmIFMo"
   },
   "outputs": [],
   "source": [
    "import os\n",
    "from dotenv import load_dotenv\n",
    "from qdrant_client import QdrantClient\n",
    "\n",
    "load_dotenv()\n",
    "\n",
    "qdrant_url = os.getenv(\"QDRANT_URL\")\n",
    "qdrant_api_key = os.getenv(\"QDRANT_API_KEY\")\n",
    "\n",
    "qdrant_client = QdrantClient(\n",
    "    url=qdrant_url,\n",
    "    api_key=qdrant_api_key,\n",
    ")"
   ]
  },
  {
   "cell_type": "code",
   "execution_count": 7,
   "metadata": {
    "id": "HhvsvuXrJflv"
   },
   "outputs": [],
   "source": [
    "from src.utils import load_model\n",
    "from src.compute_embeddings import weighted_avg_embedding_qdrant\n"
   ]
  },
  {
   "cell_type": "code",
   "execution_count": 9,
   "metadata": {
    "id": "8_jwR2XIKCjQ",
    "outputId": "1a8718c3-56dd-498a-d499-743c0b1aae87",
    "colab": {
     "base_uri": "https://localhost:8080/"
    }
   },
   "outputs": [
    {
     "output_type": "stream",
     "name": "stdout",
     "text": [
      "True count: 78.30%\n"
     ]
    }
   ],
   "source": [
    "collection_name = \"dante_multilingual_e5\"\n",
    "model_name = \"multilingual_e5\"\n",
    "model = load_model(model_name)\n",
    "\n",
    "# Example usage:\n",
    "weight_map = {3: 0.45266643204217655, 4: 0.10424393059867922, 5: 0.44308963735914425}\n",
    "# {'musa': 0.45266643204217655, 'kirkpatrick': 0.10424393059867922, 'durling': 0.44308963735914425}\n",
    "\n",
    "df_weighted = weighted_avg_embedding_qdrant(\n",
    "    model_name=model_name,\n",
    "    collection_name=collection_name,\n",
    "    qdrant_client=qdrant_client,  # Your pre-initialized QdrantClient instance\n",
    "    author_weights=weight_map,\n",
    "    batch_size=1000,\n",
    "    store_in_qdrant=True,\n",
    "    upsert_batch_size=200,\n",
    "    collection_name_weighted=f\"{collection_name}_optim_weights\"\n",
    ")\n",
    "print(df_weighted)\n"
   ]
  },
  {
   "cell_type": "code",
   "metadata": {
    "id": "POaOjnxP0E5v",
    "ExecuteTime": {
     "end_time": "2025-02-27T15:28:02.823499Z",
     "start_time": "2025-02-27T15:28:02.820947Z"
    }
   },
   "source": [],
   "outputs": [],
   "execution_count": null
  },
  {
   "cell_type": "code",
   "metadata": {
    "ExecuteTime": {
     "end_time": "2025-02-27T15:28:08.662553Z",
     "start_time": "2025-02-27T15:28:08.660431Z"
    },
    "id": "ADUJFjB6BrAg"
   },
   "source": [],
   "outputs": [],
   "execution_count": null
  },
  {
   "cell_type": "code",
   "execution_count": null,
   "metadata": {
    "id": "Qo3D5GTBBrAg"
   },
   "outputs": [],
   "source": []
  }
 ],
 "metadata": {
  "accelerator": "GPU",
  "colab": {
   "gpuType": "A100",
   "provenance": [],
   "include_colab_link": true
  },
  "kernelspec": {
   "display_name": "Python 3",
   "name": "python3"
  },
  "language_info": {
   "codemirror_mode": {
    "name": "ipython",
    "version": 3
   },
   "file_extension": ".py",
   "mimetype": "text/x-python",
   "name": "python",
   "nbconvert_exporter": "python",
   "pygments_lexer": "ipython3",
   "version": "3.9.21"
  }
 },
 "nbformat": 4,
 "nbformat_minor": 0
}

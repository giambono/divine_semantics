{
 "cells": [
  {
   "cell_type": "code",
   "execution_count": 1,
   "id": "2ORgb4mV3OUh",
   "metadata": {
    "colab": {
     "base_uri": "https://localhost:8080/"
    },
    "id": "2ORgb4mV3OUh",
    "outputId": "7202d0d9-34f3-4d67-bdad-308fabe40926"
   },
   "outputs": [
    {
     "name": "stdout",
     "output_type": "stream",
     "text": [
      "Working directory set to: /home/rfflpllcn/IdeaProjects/divine_semantics/notebooks\n",
      "Not running on Google Colab.\n"
     ]
    }
   ],
   "source": [
    "import os\n",
    "\n",
    "# Check if the notebook is running on Google Colab\n",
    "def is_colab():\n",
    "    try:\n",
    "        import google.colab\n",
    "        return True\n",
    "    except ImportError:\n",
    "        return False\n",
    "\n",
    "# Clone the repository if running on Colab\n",
    "if is_colab():\n",
    "    print(\"Running on Google Colab. Cloning repository...\")\n",
    "    !git clone https://github.com/giambono/divine_semantics.git\n",
    "    os.chdir(\"/content/divine_semantics\")\n",
    "    !pip install -r requirements.txt\n",
    "else:\n",
    "    import sys\n",
    "    sys.path.append(\"..\")\n",
    "    print(f\"Working directory set to: {os.getcwd()}\")\n",
    "    print(\"Not running on Google Colab.\")"
   ]
  },
  {
   "cell_type": "code",
   "execution_count": 3,
   "id": "a78d002169bd2833",
   "metadata": {
    "colab": {
     "base_uri": "https://localhost:8080/"
    },
    "id": "a78d002169bd2833",
    "outputId": "8c2669f5-c05f-48ef-8cce-09d0ec9d2381"
   },
   "outputs": [
    {
     "name": "stdout",
     "output_type": "stream",
     "text": [
      "Collecting scikit-optimize\n",
      "  Downloading scikit_optimize-0.10.2-py2.py3-none-any.whl.metadata (9.7 kB)\n",
      "Requirement already satisfied: joblib>=0.11 in /usr/local/lib/python3.11/dist-packages (from scikit-optimize) (1.4.2)\n",
      "Collecting pyaml>=16.9 (from scikit-optimize)\n",
      "  Downloading pyaml-25.1.0-py3-none-any.whl.metadata (12 kB)\n",
      "Requirement already satisfied: numpy>=1.20.3 in /usr/local/lib/python3.11/dist-packages (from scikit-optimize) (1.26.4)\n",
      "Requirement already satisfied: scipy>=1.1.0 in /usr/local/lib/python3.11/dist-packages (from scikit-optimize) (1.13.1)\n",
      "Requirement already satisfied: scikit-learn>=1.0.0 in /usr/local/lib/python3.11/dist-packages (from scikit-optimize) (1.6.1)\n",
      "Requirement already satisfied: packaging>=21.3 in /usr/local/lib/python3.11/dist-packages (from scikit-optimize) (24.2)\n",
      "Requirement already satisfied: PyYAML in /usr/local/lib/python3.11/dist-packages (from pyaml>=16.9->scikit-optimize) (6.0.2)\n",
      "Requirement already satisfied: threadpoolctl>=3.1.0 in /usr/local/lib/python3.11/dist-packages (from scikit-learn>=1.0.0->scikit-optimize) (3.5.0)\n",
      "Downloading scikit_optimize-0.10.2-py2.py3-none-any.whl (107 kB)\n",
      "\u001b[?25l   \u001b[90m━━━━━━━━━━━━━━━━━━━━━━━━━━━━━━━━━━━━━━━━\u001b[0m \u001b[32m0.0/107.8 kB\u001b[0m \u001b[31m?\u001b[0m eta \u001b[36m-:--:--\u001b[0m\r",
      "\u001b[2K   \u001b[90m━━━━━━━━━━━━━━━━━━━━━━━━━━━━━━━━━━━━━━━━\u001b[0m \u001b[32m107.8/107.8 kB\u001b[0m \u001b[31m9.3 MB/s\u001b[0m eta \u001b[36m0:00:00\u001b[0m\n",
      "\u001b[?25hDownloading pyaml-25.1.0-py3-none-any.whl (26 kB)\n",
      "Installing collected packages: pyaml, scikit-optimize\n",
      "Successfully installed pyaml-25.1.0 scikit-optimize-0.10.2\n"
     ]
    }
   ],
   "source": [
    "import os\n",
    "\n",
    "import config\n",
    "from src.optimize_weights import get_search_space, create_loss_function, optimize_embedding_weights\n",
    "from src.utils import load_model, setup_environment, initialize_qdrant_client, initialize_model, load_test_queries"
   ]
  },
  {
   "cell_type": "code",
   "execution_count": null,
   "id": "EHvLW9OUREGs",
   "metadata": {
    "id": "EHvLW9OUREGs"
   },
   "outputs": [],
   "source": [
    "def get_fixed_parameters():\n",
    "    \"\"\"\n",
    "    Returns fixed evaluation parameters.\n",
    "    \"\"\"\n",
    "    author_name_ids = {\"dante\": 1, \"singleton\": 2, \"musa\": 3, \"kirkpatrick\": 4, \"durling\": 5}\n",
    "    author_ids = [1, 2, 3, 4, 5]\n",
    "    type_ids = 1\n",
    "    return author_name_ids, author_ids, type_ids\n"
   ]
  },
  {
   "cell_type": "code",
   "execution_count": null,
   "id": "ce2275de-7063-4544-9f0c-1f7cf0254b3e",
   "metadata": {},
   "outputs": [],
   "source": [
    "# Setup environment and clients.\n",
    "setup_environment()\n",
    "qdrant_client = initialize_qdrant_client()\n",
    "\n",
    "# Initialize model and determine embedding dimension.\n",
    "model_name = \"multilingual_e5\"\n",
    "model, embedding_dim = initialize_model(model_name)\n",
    "\n",
    "# Define collection name and load test queries.\n",
    "collection_name = \"dante_multilingual_e5\"\n",
    "test_queries_path = os.path.join(config.ROOT, \"data/paraphrased_verses.parquet\")\n",
    "test_queries = load_test_queries(test_queries_path, n=2)\n",
    "\n",
    "# Get fixed evaluation parameters.\n",
    "author_name_ids, author_ids, type_ids = get_fixed_parameters()\n",
    "\n",
    "# Setup search space and loss function.\n",
    "columns = [\"musa\", \"kirkpatrick\", \"durling\"]\n",
    "space = get_search_space(columns)\n",
    "loss = create_loss_function(space, qdrant_client, collection_name, model, embedding_dim,\n",
    "                            author_name_ids, author_ids, type_ids, test_queries, model_name)\n",
    "\n",
    "# Optimize and print the best weights.\n",
    "best_weights = optimize_embedding_weights(loss, space, columns)\n",
    "print(\"Optimized embedding weights:\", best_weights)\n"
   ]
  }
 ],
 "metadata": {
  "accelerator": "GPU",
  "colab": {
   "gpuType": "A100",
   "provenance": []
  },
  "kernelspec": {
   "display_name": "Python 3 (ipykernel)",
   "language": "python",
   "name": "python3"
  },
  "language_info": {
   "codemirror_mode": {
    "name": "ipython",
    "version": 3
   },
   "file_extension": ".py",
   "mimetype": "text/x-python",
   "name": "python",
   "nbconvert_exporter": "python",
   "pygments_lexer": "ipython3",
   "version": "3.9.21"
  }
 },
 "nbformat": 4,
 "nbformat_minor": 5
}
